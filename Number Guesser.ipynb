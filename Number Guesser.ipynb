{
 "cells": [
  {
   "cell_type": "code",
   "execution_count": 1,
   "id": "01bbbd87",
   "metadata": {},
   "outputs": [],
   "source": [
    "import random"
   ]
  },
  {
   "cell_type": "code",
   "execution_count": 13,
   "id": "f7efc17f",
   "metadata": {},
   "outputs": [],
   "source": [
    "def generate_random():\n",
    "    \n",
    "    number =  random.randint(0,101)\n",
    "    \n",
    "    return number\n",
    "    "
   ]
  },
  {
   "cell_type": "code",
   "execution_count": 32,
   "id": "bac0e3a7",
   "metadata": {},
   "outputs": [],
   "source": [
    "def player_number():\n",
    "    player_num = \"\"\n",
    "    \n",
    "    while player_num not in range(0,101):\n",
    "        player_num = int(input(\"Guess a number from 0-100: \"))\n",
    "        continue\n",
    "    return player_num\n",
    "        \n",
    "    \n",
    "    "
   ]
  },
  {
   "cell_type": "code",
   "execution_count": null,
   "id": "cfdf7f1a",
   "metadata": {},
   "outputs": [],
   "source": []
  },
  {
   "cell_type": "code",
   "execution_count": 40,
   "id": "7e79ffa5",
   "metadata": {},
   "outputs": [],
   "source": [
    "def game():\n",
    "    game_on = True\n",
    "    \n",
    "    print(\"Hello and welcome to the NUMBER GUESSER!!\")\n",
    "    \n",
    "    \n",
    "    \n",
    "    # computer creates a number\n",
    "    while game_on:\n",
    "        \n",
    "        random_num = generate_random()\n",
    "    \n",
    "        player_guess = \"\"\n",
    "        \n",
    "        while player_guess != random_num:\n",
    "    \n",
    "            player_guess = player_number()\n",
    "\n",
    "\n",
    "\n",
    "            if random_num > player_guess:\n",
    "                print(\"Too low!\")\n",
    "                continue\n",
    "            elif random_num < player_guess:\n",
    "                print(\"Too High!\")\n",
    "                continue\n",
    "            else:\n",
    "                print(\"Guess is right!!\")\n",
    "                break\n",
    "            \n",
    "\n",
    "    \n",
    "        \n",
    "        play = input(\"Play again? y or n\")\n",
    "        if play == \"n\":\n",
    "            game_on = False\n",
    "        else:\n",
    "            game_on = True"
   ]
  },
  {
   "cell_type": "code",
   "execution_count": 41,
   "id": "4550db81",
   "metadata": {},
   "outputs": [
    {
     "name": "stdout",
     "output_type": "stream",
     "text": [
      "Hello and welcome to the NUMBER GUESSER!!\n",
      "Guess a number from 0-100: 30\n",
      "Too low!\n",
      "Guess a number from 0-100: 40\n",
      "Too low!\n",
      "Guess a number from 0-100: 50\n",
      "Too High!\n",
      "Guess a number from 0-100: 45\n",
      "Too low!\n",
      "Guess a number from 0-100: 46\n",
      "Guess is right!!\n",
      "Play again? y or ny\n",
      "Guess a number from 0-100: 46\n",
      "Too low!\n",
      "Guess a number from 0-100: 58\n",
      "Guess is right!!\n",
      "Play again? y or nn\n"
     ]
    }
   ],
   "source": [
    "game()"
   ]
  },
  {
   "cell_type": "code",
   "execution_count": null,
   "id": "d80c99ab",
   "metadata": {},
   "outputs": [],
   "source": []
  }
 ],
 "metadata": {
  "kernelspec": {
   "display_name": "Python 3",
   "language": "python",
   "name": "python3"
  },
  "language_info": {
   "codemirror_mode": {
    "name": "ipython",
    "version": 3
   },
   "file_extension": ".py",
   "mimetype": "text/x-python",
   "name": "python",
   "nbconvert_exporter": "python",
   "pygments_lexer": "ipython3",
   "version": "3.8.8"
  }
 },
 "nbformat": 4,
 "nbformat_minor": 5
}
